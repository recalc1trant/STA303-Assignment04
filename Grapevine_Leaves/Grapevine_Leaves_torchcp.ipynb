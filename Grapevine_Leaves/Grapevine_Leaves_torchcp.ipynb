{
 "cells": [
  {
   "cell_type": "markdown",
   "id": "62604abe-6b8f-42fc-a088-1ff02628eddd",
   "metadata": {},
   "source": [
    "### Grapevine Leaves Image Dataset\n",
    "- GoogLeNet with BatchNorm Layers in Inception Block.\n",
    "- With Cosine Scheduler"
   ]
  },
  {
   "cell_type": "markdown",
   "id": "cbf41e7e-fb7e-4d18-851b-e7dc5be8c914",
   "metadata": {},
   "source": [
    "### Import Libraries"
   ]
  },
  {
   "cell_type": "code",
   "execution_count": 1,
   "id": "925d8afb-ac45-4493-b338-1a45cfb59f95",
   "metadata": {
    "execution": {
     "iopub.execute_input": "2024-01-14T05:52:07.969306Z",
     "iopub.status.busy": "2024-01-14T05:52:07.968528Z",
     "iopub.status.idle": "2024-01-14T05:52:09.808400Z",
     "shell.execute_reply": "2024-01-14T05:52:09.807721Z",
     "shell.execute_reply.started": "2024-01-14T05:52:07.969282Z"
    },
    "tags": []
   },
   "outputs": [],
   "source": [
    "import numpy as np\n",
    "import pandas as pd\n",
    "import torch\n",
    "from torch import nn\n",
    "import torch.nn.functional as F\n",
    "import torchvision\n",
    "from torchvision import transforms\n",
    "import torch.utils.data as data\n",
    "import matplotlib\n",
    "import matplotlib.pyplot as plt\n",
    "from IPython import display\n",
    "import matplotlib_inline\n",
    "from torch.optim import lr_scheduler"
   ]
  },
  {
   "cell_type": "code",
   "execution_count": 2,
   "id": "f51576b9-5a04-4c1c-a10f-4dd35b0a648b",
   "metadata": {
    "execution": {
     "iopub.execute_input": "2024-01-14T05:52:09.809936Z",
     "iopub.status.busy": "2024-01-14T05:52:09.809569Z",
     "iopub.status.idle": "2024-01-14T05:52:09.822765Z",
     "shell.execute_reply": "2024-01-14T05:52:09.816112Z",
     "shell.execute_reply.started": "2024-01-14T05:52:09.809909Z"
    },
    "tags": []
   },
   "outputs": [],
   "source": [
    "def try_gpu(i=0):\n",
    "    if torch.cuda.device_count() >= i + 1:\n",
    "        return torch.device(f\"cuda:{i}\")\n",
    "    return torch.device(\"cpu\")"
   ]
  },
  {
   "cell_type": "markdown",
   "id": "d810d2c8-0a38-4432-bf89-f1768da7eb16",
   "metadata": {
    "execution": {
     "iopub.execute_input": "2024-01-13T18:34:34.529788Z",
     "iopub.status.busy": "2024-01-13T18:34:34.529301Z",
     "iopub.status.idle": "2024-01-13T18:34:34.533783Z",
     "shell.execute_reply": "2024-01-13T18:34:34.532634Z",
     "shell.execute_reply.started": "2024-01-13T18:34:34.529759Z"
    },
    "tags": []
   },
   "source": [
    "### Load Data"
   ]
  },
  {
   "cell_type": "code",
   "execution_count": 3,
   "id": "8a59d248-053b-4d54-b2f9-b673325dc8a5",
   "metadata": {
    "execution": {
     "iopub.execute_input": "2024-01-14T05:52:14.774393Z",
     "iopub.status.busy": "2024-01-14T05:52:14.773807Z",
     "iopub.status.idle": "2024-01-14T05:52:14.780738Z",
     "shell.execute_reply": "2024-01-14T05:52:14.780229Z",
     "shell.execute_reply.started": "2024-01-14T05:52:14.774367Z"
    },
    "tags": []
   },
   "outputs": [],
   "source": [
    "transform = transforms.Compose(\n",
    "    [transforms.Resize(512),\n",
    "     transforms.ToTensor(),\n",
    "     transforms.Normalize((0.5, 0.5, 0.5), (0.5, 0.5, 0.5))])\n",
    "main_folder = \"/openbayes/input/input1/Grapevine_Leaves_Image_Dataset\""
   ]
  },
  {
   "cell_type": "code",
   "execution_count": 4,
   "id": "4a4d10a1-93cd-4e8e-a33d-feea43393f19",
   "metadata": {
    "execution": {
     "iopub.execute_input": "2024-01-14T05:52:15.005441Z",
     "iopub.status.busy": "2024-01-14T05:52:15.005066Z",
     "iopub.status.idle": "2024-01-14T05:52:15.012787Z",
     "shell.execute_reply": "2024-01-14T05:52:15.012325Z",
     "shell.execute_reply.started": "2024-01-14T05:52:15.005421Z"
    },
    "tags": []
   },
   "outputs": [],
   "source": [
    "# split train and test dataset\n",
    "def dataset_split(dataset, test_percentage=0.2):\n",
    "    test_size = int(len(dataset) * test_percentage/2)\n",
    "    train_size = len(dataset) - test_size*2\n",
    "    cal_size = len(dataset) - train_size - test_size\n",
    "    train_data, test_data, cal_data = data.random_split(dataset, [train_size, test_size,cal_size])\n",
    "    return (train_data, test_data, cal_data)\n",
    "\n",
    "batch_size, test_percentage = 32, 0.2\n",
    "data_all = torchvision.datasets.ImageFolder(root=main_folder, transform=transform)\n",
    "train_data,test_data,cal_data = dataset_split(data_all,test_percentage)\n",
    "train_iter = data.DataLoader(train_data, batch_size=batch_size, num_workers=0)\n",
    "test_iter = data.DataLoader(test_data, batch_size=batch_size, num_workers=0)\n",
    "cal_iter = data.DataLoader(cal_data, batch_size=batch_size, num_workers=0)"
   ]
  },
  {
   "cell_type": "markdown",
   "id": "be2a50f1-197b-480a-b449-6b5275814f93",
   "metadata": {},
   "source": [
    "### Set GoogLeNet With BatchNorm Layer"
   ]
  },
  {
   "cell_type": "code",
   "execution_count": 5,
   "id": "5aaabd0b-a9a3-485b-a3e0-afa46dc936ab",
   "metadata": {
    "execution": {
     "iopub.execute_input": "2024-01-14T05:52:15.491653Z",
     "iopub.status.busy": "2024-01-14T05:52:15.491428Z",
     "iopub.status.idle": "2024-01-14T05:52:15.513317Z",
     "shell.execute_reply": "2024-01-14T05:52:15.512827Z",
     "shell.execute_reply.started": "2024-01-14T05:52:15.491633Z"
    },
    "tags": []
   },
   "outputs": [],
   "source": [
    "class Inception(nn.Module):\n",
    "    def __init__(self, in_channels, C1, C2, C3, C4, **kwargs):\n",
    "        super().__init__()\n",
    "        self.p1_1 = nn.Conv2d(in_channels, C1, kernel_size=1)\n",
    "        self.p1_2 = nn.BatchNorm2d(C1)\n",
    "        self.p2_1 = nn.Conv2d(in_channels, C2[0], kernel_size=1)\n",
    "        self.p2_2 = nn.Conv2d(C2[0], C2[1], kernel_size=3, padding=1)\n",
    "        self.p2_3 = nn.BatchNorm2d(C2[1])\n",
    "        self.p3_1 = nn.Conv2d(in_channels, C3[0], kernel_size=1)\n",
    "        self.p3_2 = nn.Conv2d(C3[0], C3[1], kernel_size=5, padding=2)\n",
    "        self.p3_3 = nn.BatchNorm2d(C3[1])\n",
    "        self.p4_1 = nn.MaxPool2d(kernel_size=3, stride=1, padding=1)\n",
    "        self.p4_2 = nn.Conv2d(in_channels, C4, kernel_size=1)\n",
    "        self.p4_3 = nn.BatchNorm2d(C4)\n",
    "\n",
    "    def forward(self, X):\n",
    "        o1 = F.relu(self.p1_2(self.p1_1(X)))\n",
    "        o2 = F.relu(self.p2_3(self.p2_2(F.relu(self.p2_1(X)))))\n",
    "        o3 = F.relu(self.p3_3(self.p3_2(F.relu(self.p3_1(X)))))\n",
    "        o4 = F.relu(self.p4_3(self.p4_2(self.p4_1(X))))\n",
    "        return torch.cat([o1, o2, o3, o4], dim=1)\n",
    "    \n",
    "class Google_net(nn.Module):\n",
    "    def __init__(self, in_channels, Inception):\n",
    "        super().__init__()\n",
    "        b1 = nn.Sequential(nn.Conv2d(in_channels, 64, kernel_size=7, padding=3, stride=2), nn.BatchNorm2d(64),\n",
    "                          nn.ReLU(),\n",
    "                          nn.MaxPool2d(kernel_size=3, stride=2, padding=1),\n",
    "                          nn.Conv2d(64, 64, kernel_size=1),nn.BatchNorm2d(64),\n",
    "                          nn.ReLU(),\n",
    "                          nn.Conv2d(64, 192, kernel_size=3, padding=1),nn.BatchNorm2d(192),\n",
    "                          nn.ReLU(),\n",
    "                          nn.MaxPool2d(kernel_size=3, stride=2, padding=1))\n",
    "        \n",
    "        b2 = nn.Sequential(Inception(192, 64, (96, 128), (16, 32), 32),\n",
    "                           Inception(256, 128, (128, 192), (32, 96), 64),\n",
    "                           nn.MaxPool2d(kernel_size=3, stride=2, padding=1))\n",
    "        \n",
    "        b3 = nn.Sequential(Inception(480, 192, (96, 208), (16, 48), 64),\n",
    "                   Inception(512, 160, (112, 224), (24, 64), 64),\n",
    "                   Inception(512, 128, (128, 256), (24, 64), 64),\n",
    "                   Inception(512, 112, (144, 288), (32, 64), 64),\n",
    "                   Inception(528, 256, (160, 320), (32, 128), 128),\n",
    "                   nn.MaxPool2d(kernel_size=3, stride=2, padding=1))\n",
    "        \n",
    "        b4 = nn.Sequential(Inception(832, 256, (160, 320), (32, 128), 128),\n",
    "                   Inception(832, 384, (192, 384), (48, 128), 128),\n",
    "                   nn.AdaptiveAvgPool2d((1,1)),\n",
    "                   nn.Flatten())\n",
    "        self.net = nn.Sequential(b1, b2, b3, b4, nn.Dropout(0.3), nn.Linear(1024, 512), nn.Dropout(0.5), nn.Linear(512, 5)) \n",
    "    \n",
    "    def forward(self, X):\n",
    "        return(self.net(X))\n",
    "    \n",
    "def init_parameters(m):\n",
    "    if type(m) == nn.Linear or type(m) == nn.Conv2d:\n",
    "        nn.init.xavier_uniform_(m.weight)"
   ]
  },
  {
   "cell_type": "markdown",
   "id": "d20b682d-ecb9-4519-be85-7d95f9b8816c",
   "metadata": {},
   "source": [
    "### Functions to Evaluate the Accuracy of the Model"
   ]
  },
  {
   "cell_type": "code",
   "execution_count": 6,
   "id": "84655d0e-61b2-4248-b57e-850afe4437d7",
   "metadata": {
    "execution": {
     "iopub.execute_input": "2024-01-14T05:52:16.316339Z",
     "iopub.status.busy": "2024-01-14T05:52:16.316115Z",
     "iopub.status.idle": "2024-01-14T05:52:16.324856Z",
     "shell.execute_reply": "2024-01-14T05:52:16.324375Z",
     "shell.execute_reply.started": "2024-01-14T05:52:16.316320Z"
    },
    "tags": []
   },
   "outputs": [],
   "source": [
    "class Accumulator():\n",
    "    def __init__(self, size):\n",
    "        self.size = size\n",
    "        self.counter = [0] * size\n",
    "    \n",
    "    def __getitem__(self, idx):\n",
    "        return self.counter[idx]\n",
    "    \n",
    "    def set_zeros(self):\n",
    "        self.counter = [0] * len(self.counter)\n",
    "    \n",
    "    def add(self, *nums):\n",
    "        assert len(nums) == len(self.counter), \"Different numbers of numbers and accumulator size.\"\n",
    "        self.counter = [i + num for i,num in zip(self.counter, nums)]\n",
    "\n",
    "def accuracy(y_hat, y):\n",
    "    if len(y_hat.shape) > 1 and y_hat.shape[1] > 1:\n",
    "        y_hat = y_hat.argmax(dim=1)\n",
    "    cmp = y_hat.type(y.dtype) == y\n",
    "    return float(cmp.type(y.dtype).sum())\n",
    "\n",
    "def evaluate_accuracy_gpu(net, data_iter, device=None):\n",
    "    if isinstance(net, nn.Module):\n",
    "        net.eval()\n",
    "        if not device:\n",
    "            device = next(iter(net.parameters())).device\n",
    "    metric = Accumulator(2)\n",
    "    with torch.no_grad():\n",
    "        for X,y in data_iter:\n",
    "            if isinstance(X, list):\n",
    "                X = [x.to(device) for x in X]\n",
    "            else:\n",
    "                X = X.to(device)\n",
    "            y = y.to(device)\n",
    "            y_hat = net(X)\n",
    "            metric.add(accuracy(y_hat,y), y.numel())\n",
    "    return metric[0] / metric[1]"
   ]
  },
  {
   "cell_type": "markdown",
   "id": "527753d1-2a95-4da4-8279-0a9b00cb6445",
   "metadata": {},
   "source": [
    "### Functions to Generate the Plot of Loss and Accuracy in Animation"
   ]
  },
  {
   "cell_type": "code",
   "execution_count": 7,
   "id": "0ca5afe2-f1be-4e4d-b352-1ce22dfb24f6",
   "metadata": {
    "execution": {
     "iopub.execute_input": "2024-01-14T05:52:16.877121Z",
     "iopub.status.busy": "2024-01-14T05:52:16.876929Z",
     "iopub.status.idle": "2024-01-14T05:52:16.889425Z",
     "shell.execute_reply": "2024-01-14T05:52:16.888952Z",
     "shell.execute_reply.started": "2024-01-14T05:52:16.877101Z"
    },
    "tags": []
   },
   "outputs": [],
   "source": [
    "\n",
    "class Animator:\n",
    "    def __init__(self, xlabels=None, ylabels=None, legends=None, xlims=None,\n",
    "                 ylims=None, xscales='linear', yscales='linear',\n",
    "                 fmts=('-', 'm--', 'g-.', 'r:'), nrows=1, ncols=1,\n",
    "                 figsize=(4, 6)):\n",
    "        # Incrementally plot multiple lines\n",
    "        self.num_argument = len(xlabels) if xlabels is not None else 0\n",
    "        self.plot_arguments = [xlabels, ylabels, xlims, ylims, xscales, yscales, legends]\n",
    "        for i in range(len(self.plot_arguments)):\n",
    "            if self.plot_arguments[i] is None:\n",
    "                self.plot_arguments[i] = [None] * self.num_argument\n",
    "        self.plot_arguments = list(zip(*self.plot_arguments))\n",
    "        matplotlib_inline.backend_inline.set_matplotlib_formats('svg')\n",
    "        \n",
    "        self.fig, self.axes = plt.subplots(nrows, ncols, figsize=figsize)\n",
    "        \n",
    "        if nrows * ncols == 1:\n",
    "            self.axes = [self.axes, ]\n",
    "            \n",
    "        self.X, self.Y, self.fmts = None, None, fmts\n",
    "    \n",
    "    def set_axes(self, axes, xlabel, ylabel, xlim, ylim, xscale, yscale, legend):\n",
    "        axes.set_xlabel(xlabel)\n",
    "        axes.set_ylabel(ylabel)\n",
    "        axes.set_xscale(xscale)\n",
    "        axes.set_yscale(yscale)\n",
    "        axes.set_xlim(xlim)\n",
    "        axes.set_ylim(ylim)\n",
    "        if legend:\n",
    "            axes.legend(legend)\n",
    "        axes.grid()\n",
    "            \n",
    "    def add(self, xs, ys):\n",
    "        # Add multiple data points into the figure\n",
    "        if not self.X:\n",
    "            self.X = [[]] * self.num_argument\n",
    "        if not self.Y:\n",
    "            self.Y = [[]] * self.num_argument\n",
    "\n",
    "        for i, (x, y) in enumerate(zip(xs, ys)):\n",
    "            if not hasattr(y, \"__len__\"):\n",
    "                y = [y]\n",
    "            n = len(y)\n",
    "            if not hasattr(x, \"__len__\"):\n",
    "                x = [x] * n\n",
    "                \n",
    "            if self.X[i] == []:\n",
    "                self.X[i] = [[]] * n\n",
    "            if self.Y[i] == []:\n",
    "                self.Y[i] = [[]] * n\n",
    "\n",
    "            for t, (a, b) in enumerate(zip(x, y)):\n",
    "                if a is not None and b is not None:\n",
    "                    self.X[i][t] = [*self.X[i][t],a]\n",
    "                    self.Y[i][t] = [*self.Y[i][t],b]\n",
    "            self.axes[i].cla()\n",
    "            for m, n, fmt in zip(self.X[i], self.Y[i], self.fmts):\n",
    "                self.axes[i].plot(m, n, fmt)\n",
    "            self.set_axes(self.axes[i], *self.plot_arguments[i])\n",
    "        display.display(self.fig)\n",
    "        display.clear_output(wait=True)"
   ]
  },
  {
   "cell_type": "markdown",
   "id": "a7d591a1-6c9a-44f8-9179-fbf82df183ea",
   "metadata": {},
   "source": [
    "### Train"
   ]
  },
  {
   "cell_type": "code",
   "execution_count": 8,
   "id": "497473df-a7b2-4e72-b239-e6f6b253ff2e",
   "metadata": {
    "execution": {
     "iopub.execute_input": "2024-01-14T05:52:19.266047Z",
     "iopub.status.busy": "2024-01-14T05:52:19.265443Z",
     "iopub.status.idle": "2024-01-14T05:52:19.282456Z",
     "shell.execute_reply": "2024-01-14T05:52:19.282011Z",
     "shell.execute_reply.started": "2024-01-14T05:52:19.266006Z"
    },
    "tags": []
   },
   "outputs": [],
   "source": [
    "def train(net, train_iter, test_iter, num_cpochs, begin_lr, device):\n",
    "    def init_weights(m):\n",
    "        if type(m) == nn.Linear or type(m) == nn.Conv2d:\n",
    "            nn.init.xavier_uniform_(m.weight)\n",
    "    net.apply(init_weights)\n",
    "    print(\"training on\", device)\n",
    "    net.to(device)\n",
    "    optimizer = torch.optim.SGD(net.parameters(), lr=begin_lr)\n",
    "    scheduler = lr_scheduler.CosineAnnealingLR(optimizer, T_max=25, eta_min = 0.001)\n",
    "    loss = nn.CrossEntropyLoss()\n",
    "    animator = Animator(xlabels=['epoch', 'epoch'],\n",
    "                        xlims=[[1, num_epochs], [1, num_epochs]],\n",
    "                        xscales=['linear','linear'],\n",
    "                        yscales=['linear','linear'],\n",
    "                        legends=[['train loss'], ['train acc', 'test acc']],\n",
    "                        nrows=2, ncols=1)\n",
    "    num_batches = len(train_iter)\n",
    "    \n",
    "    for epoch in range(num_epochs):\n",
    "        metric = Accumulator(3)\n",
    "        net.train()\n",
    "        for i, (X, y) in enumerate(train_iter):\n",
    "            optimizer.zero_grad()\n",
    "            X, y = X.to(device), y.to(device)\n",
    "            \n",
    "            y_hat = net(X)\n",
    "            l = loss(y_hat, y)\n",
    "            l.backward()\n",
    "            optimizer.step()\n",
    "            \n",
    "            with torch.no_grad():\n",
    "                metric.add(l * X.shape[0], accuracy(y_hat, y), X.shape[0])\n",
    "            \n",
    "            train_l = metric[0] / metric[2]\n",
    "            train_acc = metric[1] / metric[2]\n",
    "            if (i + 1) % (num_batches // 2) == 0 or  i == num_batches - 1 :\n",
    "                animator.add((epoch + (i + 1) / num_batches, epoch + (i + 1) / num_batches),\n",
    "                             (float(train_l), (float(train_acc), None)))\n",
    "        test_acc = evaluate_accuracy_gpu(net, test_iter)\n",
    "        animator.add((epoch + 1, epoch + 1), (None, (None, test_acc)))\n",
    "        scheduler.step()\n",
    "\n",
    "    print(f'{num_epochs} epochs training')\n",
    "    print(f'loss {train_l:.3f}, train acc {train_acc:.3f}, ')\n",
    "    print(f'test acc {test_acc:.3f}')"
   ]
  },
  {
   "cell_type": "code",
   "execution_count": 9,
   "id": "6bfafb52-0a6d-4452-bd64-7ce4067dcdcd",
   "metadata": {
    "execution": {
     "iopub.execute_input": "2024-01-14T05:52:29.750368Z",
     "iopub.status.busy": "2024-01-14T05:52:29.750033Z",
     "iopub.status.idle": "2024-01-14T05:52:29.888046Z",
     "shell.execute_reply": "2024-01-14T05:52:29.887441Z",
     "shell.execute_reply.started": "2024-01-14T05:52:29.750343Z"
    },
    "tags": []
   },
   "outputs": [],
   "source": [
    "net = Google_net(3, Inception)\n",
    "num_epochs, begin_lr = 30, 0.05"
   ]
  },
  {
   "cell_type": "markdown",
   "id": "c3ad620b-4011-475a-8ba0-277640c27dd3",
   "metadata": {},
   "source": [
    "#### This step can be skipped, becuase the model weight has been saved, move to next cell and run it if the time is not enough for you"
   ]
  },
  {
   "cell_type": "code",
   "execution_count": null,
   "id": "10ac19f0-f673-4a24-8796-42abf0f0955d",
   "metadata": {},
   "outputs": [],
   "source": [
    "train(net, train_iter, test_iter, num_epochs, begin_lr, try_gpu())\n",
    "torch.save(net.state_dict(),\"/openbayes/home/Grapevine_Leaves/model.pth\")    "
   ]
  },
  {
   "cell_type": "markdown",
   "id": "a9cc69db-4919-4980-a8b4-30fadc9701ac",
   "metadata": {},
   "source": [
    "### Loading model weight"
   ]
  },
  {
   "cell_type": "code",
   "execution_count": 10,
   "id": "c824d9b6-e655-4768-9c29-832a39860540",
   "metadata": {
    "execution": {
     "iopub.execute_input": "2024-01-14T05:52:47.411713Z",
     "iopub.status.busy": "2024-01-14T05:52:47.411338Z",
     "iopub.status.idle": "2024-01-14T05:52:47.752348Z",
     "shell.execute_reply": "2024-01-14T05:52:47.751618Z",
     "shell.execute_reply.started": "2024-01-14T05:52:47.411689Z"
    },
    "tags": []
   },
   "outputs": [],
   "source": [
    "model_path = '/openbayes/home/Grapevine_Leaves/model.pth'\n",
    "net.load_state_dict(torch.load(model_path))\n",
    "model_Grapevine_Leaves = net"
   ]
  },
  {
   "cell_type": "code",
   "execution_count": 15,
   "id": "46d60603-6d77-4edf-baf2-e4d02ab6f1f6",
   "metadata": {
    "execution": {
     "iopub.execute_input": "2024-01-14T07:08:55.758343Z",
     "iopub.status.busy": "2024-01-14T07:08:55.758063Z",
     "iopub.status.idle": "2024-01-14T07:08:55.765231Z",
     "shell.execute_reply": "2024-01-14T07:08:55.764253Z",
     "shell.execute_reply.started": "2024-01-14T07:08:55.758323Z"
    },
    "tags": []
   },
   "outputs": [
    {
     "ename": "SyntaxError",
     "evalue": "invalid syntax (627832215.py, line 18)",
     "output_type": "error",
     "traceback": [
      "\u001b[0;36m  Cell \u001b[0;32mIn[15], line 18\u001b[0;36m\u001b[0m\n\u001b[0;31m    predictor = ClassWisePredictor(score_function=score, mod/openbayes/home/Grapevine_Leaves/ating the predictor with significance level as 0.1\u001b[0m\n\u001b[0m                                                                                                   ^\u001b[0m\n\u001b[0;31mSyntaxError\u001b[0m\u001b[0;31m:\u001b[0m invalid syntax\n"
     ]
    }
   ],
   "source": [
    "from torchcp.classification.scores import THR, APS, SAPS, RAPS\n",
    "from torchcp.classification.predictors import ClassWisePredictor\n",
    "\n",
    "# Preparing a calibration data and a test data.\n",
    "cal_dataloader = cal_iter\n",
    "test_dataloader = test_iter\n",
    "# Preparing a pytorch model\n",
    "model = model_Grapevine_Leaves\n",
    "\n",
    "model.eval()\n",
    "\n",
    "score_functions = [THR(), APS()]\n",
    "coverage_rates = []\n",
    "average_sizes = []\n",
    "# Options of score function: THR, APS, SAPS, RAPS\n",
    "# Define a conformal prediction algorithm. Optional: SplitPredictor, ClusterPredictor, ClassWisePredictor\n",
    "for score in score_functions:\n",
    "    predictor = ClassWisePredictor(score_function=score, model=model)\n",
    "\n",
    "# Calibrating the predictor with significance level as 0.1\n",
    "    predictor.calibrate(cal_dataloader, alpha=0.1)\n",
    "\n",
    "#########################################\n",
    "# Predicting for test instances\n",
    "########################################\n",
    "# for batch in test_dataloader:\n",
    "#    test_instances , _ = batch\n",
    "#    predict_sets = predictor.predict(test_instances)\n",
    "#    print(predict_sets)\n",
    "\n",
    "#########################################\n",
    "# Evaluating the coverage rate and average set size on a given dataset.\n",
    "########################################\n",
    "    result_dict = predictor.evaluate(test_dataloader)\n",
    "    coverage_rates.append(result_dict[\"Coverage_rate\"])\n",
    "    average_sizes.append(result_dict[\"Average_size\"])\n",
    "    print(result_dict[\"Coverage_rate\"], result_dict[\"Average_size\"])"
   ]
  },
  {
   "cell_type": "code",
   "execution_count": 16,
   "id": "59da062a-dcff-41ee-85a2-1c696b0503ad",
   "metadata": {
    "execution": {
     "iopub.execute_input": "2024-01-14T07:34:12.939716Z",
     "iopub.status.busy": "2024-01-14T07:34:12.939093Z",
     "iopub.status.idle": "2024-01-14T07:34:13.263935Z",
     "shell.execute_reply": "2024-01-14T07:34:13.263406Z",
     "shell.execute_reply.started": "2024-01-14T07:34:12.939674Z"
    },
    "tags": []
   },
   "outputs": [
    {
     "data": {
      "image/png": "[encoded data removed]",
      "text/plain": [
       "<Figure size 1000x500 with 1 Axes>"
      ]
     },
     "metadata": {},
     "output_type": "display_data"
    },
    {
     "data": {
      "image/png": "[encoded data removed]",
      "text/plain": [
       "<Figure size 1000x500 with 1 Axes>"
      ]
     },
     "metadata": {},
     "output_type": "display_data"
    }
   ],
   "source": [
    "# Assuming you have data for different score functions, Coverage_rate, and Average_size\n",
    "score_functions = ['THR', 'APS']\n",
    "\n",
    "# Create a DataFrame for easier plotting\n",
    "\n",
    "# 绘制Coverage_rate图表\n",
    "plt.figure(figsize=(10, 5))\n",
    "bars = plt.bar(score_functions, coverage_rates, color=['blue', 'orange'], width=0.3)\n",
    "plt.title('Coverage Rate for Different Score Functions')\n",
    "plt.xlabel('Score Function')\n",
    "plt.ylabel('Coverage Rate')\n",
    "plt.ylim(0, 1)  # 设置y轴范围为0到1\n",
    "\n",
    "# 在每个柱状图上显示相应的值\n",
    "for bar, value in zip(bars, coverage_rates):\n",
    "    plt.text(bar.get_x() + bar.get_width() / 2, bar.get_height(), f'{value:.3f}', ha='center', va='bottom')\n",
    "plt.savefig('/openbayes/home/Grapevine_Leaves/Grapevine_Leaves_Coverage_Rates.png')\n",
    "plt.show()\n",
    "\n",
    "# 绘制Average_size图表\n",
    "plt.figure(figsize=(10, 5))\n",
    "bars = plt.bar(score_functions, average_sizes, color=['blue', 'orange'], width=0.3)\n",
    "plt.title('Average Size for Different Score Functions')\n",
    "plt.xlabel('Score Function')\n",
    "plt.ylabel('Average Size')\n",
    "\n",
    "# 在每个柱状图上显示相应的值\n",
    "for bar, value in zip(bars, average_sizes):\n",
    "    plt.text(bar.get_x() + bar.get_width() / 2, bar.get_height(), f'{value}', ha='center', va='bottom')\n",
    "plt.savefig('/openbayes/home/Grapevine_Leaves/Grapevine_Leaves_average_sizes.png')\n",
    "plt.show()"
   ]
  },
  {
   "cell_type": "code",
   "execution_count": null,
   "id": "5cbf488f-91fd-40b5-8ab3-ac6374cdc6de",
   "metadata": {},
   "outputs": [],
   "source": []
  },
  {
   "cell_type": "code",
   "execution_count": null,
   "id": "97e8b050-ddf5-493d-bf0f-ea376f0869bf",
   "metadata": {},
   "outputs": [],
   "source": []
  }
 ],
 "metadata": {
  "kernelspec": {
   "display_name": "Python 3 (ipykernel)",
   "language": "python",
   "name": "python3"
  },
  "language_info": {
   "codemirror_mode": {
    "name": "ipython",
    "version": 3
   },
   "file_extension": ".py",
   "mimetype": "text/x-python",
   "name": "python",
   "nbconvert_exporter": "python",
   "pygments_lexer": "ipython3",
   "version": "3.8.18"
  }
 },
 "nbformat": 4,
 "nbformat_minor": 5
}
